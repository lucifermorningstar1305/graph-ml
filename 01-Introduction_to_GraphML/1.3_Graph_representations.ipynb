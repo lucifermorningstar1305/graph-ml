{
 "cells": [
  {
   "cell_type": "code",
   "execution_count": 1,
   "id": "c59435b0-01aa-4269-a977-3ef94cd63d01",
   "metadata": {},
   "outputs": [],
   "source": [
    "import numpy as np\n",
    "import pandas as pd\n",
    "import matplotlib.pyplot as plt\n",
    "import networkx as nx"
   ]
  },
  {
   "cell_type": "markdown",
   "id": "798bc80d-f0d6-4ac1-b1ab-234e93425aac",
   "metadata": {},
   "source": [
    "# Adjacency Matrix\n",
    "\n",
    "The **adjacency matrix** ($M$) of a graph $\\mathcal{G}=(V,E)$ is a **square-matrix** of size ($|V| \\times |V|$), whose elements $M_{ij}$ is:\n",
    "\n",
    "$$\n",
    "M_{ij} =\n",
    "\\begin{cases}\n",
    "1, & \\text{node $i$ has an edge with node $j$} \\\\\n",
    "0, & \\text{otherwise} \\\\\n",
    "\\end{cases}\n",
    "$$"
   ]
  },
  {
   "cell_type": "code",
   "execution_count": 4,
   "id": "a8ff5167-bc83-4494-b4d1-b9c1410a5bfd",
   "metadata": {},
   "outputs": [
    {
     "data": {
      "image/png": "[encoded data removed]",
      "text/plain": [
       "<Figure size 640x480 with 1 Axes>"
      ]
     },
     "metadata": {},
     "output_type": "display_data"
    }
   ],
   "source": [
    "G = nx.Graph()\n",
    "V = {\"Dublin\", \"Paris\", \"Milan\", \"Rome\"}\n",
    "E = [(\"Milan\", \"Dublin\"), (\"Paris\", \"Milan\"), (\"Paris\", \"Dublin\"), (\"Milan\", \"Rome\")]\n",
    "\n",
    "G.add_nodes_from(V)\n",
    "G.add_edges_from(E)\n",
    "\n",
    "nx.draw(G, with_labels=True, node_size=400, edge_color=\"gray\", font_size=15)"
   ]
  },
  {
   "cell_type": "code",
   "execution_count": 5,
   "id": "806a26d6-e9f9-4fe3-ad2a-eb4105ec2756",
   "metadata": {},
   "outputs": [
    {
     "data": {
      "text/html": [
       "<div>\n",
       "<style scoped>\n",
       "    .dataframe tbody tr th:only-of-type {\n",
       "        vertical-align: middle;\n",
       "    }\n",
       "\n",
       "    .dataframe tbody tr th {\n",
       "        vertical-align: top;\n",
       "    }\n",
       "\n",
       "    .dataframe thead th {\n",
       "        text-align: right;\n",
       "    }\n",
       "</style>\n",
       "<table border=\"1\" class=\"dataframe\">\n",
       "  <thead>\n",
       "    <tr style=\"text-align: right;\">\n",
       "      <th></th>\n",
       "      <th>Milan</th>\n",
       "      <th>Paris</th>\n",
       "      <th>Dublin</th>\n",
       "      <th>Rome</th>\n",
       "    </tr>\n",
       "  </thead>\n",
       "  <tbody>\n",
       "    <tr>\n",
       "      <th>Milan</th>\n",
       "      <td>0.0</td>\n",
       "      <td>1.0</td>\n",
       "      <td>1.0</td>\n",
       "      <td>1.0</td>\n",
       "    </tr>\n",
       "    <tr>\n",
       "      <th>Paris</th>\n",
       "      <td>1.0</td>\n",
       "      <td>0.0</td>\n",
       "      <td>1.0</td>\n",
       "      <td>0.0</td>\n",
       "    </tr>\n",
       "    <tr>\n",
       "      <th>Dublin</th>\n",
       "      <td>1.0</td>\n",
       "      <td>1.0</td>\n",
       "      <td>0.0</td>\n",
       "      <td>0.0</td>\n",
       "    </tr>\n",
       "    <tr>\n",
       "      <th>Rome</th>\n",
       "      <td>1.0</td>\n",
       "      <td>0.0</td>\n",
       "      <td>0.0</td>\n",
       "      <td>0.0</td>\n",
       "    </tr>\n",
       "  </tbody>\n",
       "</table>\n",
       "</div>"
      ],
      "text/plain": [
       "        Milan  Paris  Dublin  Rome\n",
       "Milan     0.0    1.0     1.0   1.0\n",
       "Paris     1.0    0.0     1.0   0.0\n",
       "Dublin    1.0    1.0     0.0   0.0\n",
       "Rome      1.0    0.0     0.0   0.0"
      ]
     },
     "execution_count": 5,
     "metadata": {},
     "output_type": "execute_result"
    }
   ],
   "source": [
    "nx.to_pandas_adjacency(G)"
   ]
  },
  {
   "cell_type": "markdown",
   "id": "f1110066-6df2-477f-ad23-181065abf0eb",
   "metadata": {},
   "source": [
    "# Edge List\n",
    "\n",
    "The **edge list** $L$ of a graph $\\mathcal{G} = (V, E)$ is a list of size $|E|$ such that it's elements $L_{i}$ represents the **head** and **tail nodes** of an edge $e$. "
   ]
  },
  {
   "cell_type": "code",
   "execution_count": 6,
   "id": "90176345-b4c5-469b-b219-b6c188a535c1",
   "metadata": {},
   "outputs": [
    {
     "name": "stdout",
     "output_type": "stream",
     "text": [
      "  source  target\n",
      "0  Milan  Dublin\n",
      "1  Milan   Paris\n",
      "2  Milan    Rome\n",
      "3  Paris  Dublin\n"
     ]
    }
   ],
   "source": [
    "print(nx.to_pandas_edgelist(G))"
   ]
  },
  {
   "cell_type": "code",
   "execution_count": null,
   "id": "54842008-65d3-4e75-95c4-183618d62bd4",
   "metadata": {},
   "outputs": [],
   "source": []
  }
 ],
 "metadata": {
  "kernelspec": {
   "display_name": "Python 3 (ipykernel)",
   "language": "python",
   "name": "python3"
  },
  "language_info": {
   "codemirror_mode": {
    "name": "ipython",
    "version": 3
   },
   "file_extension": ".py",
   "mimetype": "text/x-python",
   "name": "python",
   "nbconvert_exporter": "python",
   "pygments_lexer": "ipython3",
   "version": "3.12.3"
  }
 },
 "nbformat": 4,
 "nbformat_minor": 5
}
