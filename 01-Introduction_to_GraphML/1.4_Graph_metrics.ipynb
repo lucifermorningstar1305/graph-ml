{
 "cells": [
  {
   "cell_type": "code",
   "execution_count": 1,
   "id": "03a0c5b9-d47d-481f-87b2-a30d9713a7f3",
   "metadata": {},
   "outputs": [],
   "source": [
    "import numpy as np\n",
    "import matplotlib.pyplot as plt\n",
    "import pandas as pd\n",
    "import networkx as nx"
   ]
  },
  {
   "cell_type": "markdown",
   "id": "7eb5090b-119d-4af9-8953-cf77f112617c",
   "metadata": {},
   "source": [
    "# 1. Integration metrics\n",
    "\n",
    "This measures how nodes tend to be **interconnected** with each other."
   ]
  },
  {
   "cell_type": "markdown",
   "id": "77503c4c-d10c-4bd1-b373-caeccbc6d00a",
   "metadata": {},
   "source": [
    "## 1.1 Distance, path, and shortest path\n",
    "\n",
    "- **Distance** : It is the **number of edges** required to traverse to the **target** node from the **source** node.\n",
    "- **Path** : It is the **set of edges** connecting source node $\\mathcal{i}$ to target node $\\mathcal{j}$.\n",
    "- **Shortest Path**: It is the **lowest** number of edges traversed to get to **target node** $\\mathcal{j}$ from **source node** $\\mathcal{i}$ amongst all the other possible paths.\n",
    "- **Diameter** : It is **number of edges** contained in the **longest shortest path** among all possible **shortest paths**."
   ]
  },
  {
   "cell_type": "code",
   "execution_count": 2,
   "id": "d04236c6-0b75-46db-9fbd-712da8206b0f",
   "metadata": {},
   "outputs": [
    {
     "data": {
      "image/png": "[encoded data removed]",
      "text/plain": [
       "<Figure size 640x480 with 1 Axes>"
      ]
     },
     "metadata": {},
     "output_type": "display_data"
    }
   ],
   "source": [
    "G = nx.Graph()\n",
    "\n",
    "nodes = {1: \"Dublin\", 2: \"Paris\", 3:\"Milan\", 4:\"Rome\", 5:\"Naples\", 6:\"Moscow\", 7:\"Tokyo\"}\n",
    "G.add_nodes_from(nodes.keys())\n",
    "G.add_edges_from([(1, 2), (1, 3), (2, 3), (3, 4), (4, 5), (5, 6), (6, 7), (7, 5)])\n",
    "\n",
    "nx.draw(G, with_labels=True)"
   ]
  },
  {
   "cell_type": "code",
   "execution_count": 3,
   "id": "c9d22b9e-345b-4716-a3d5-03c97d62480e",
   "metadata": {},
   "outputs": [
    {
     "name": "stdout",
     "output_type": "stream",
     "text": [
      "Shortest path from Node 1 to Node 7: [1, 3, 4, 5, 7]\n"
     ]
    }
   ],
   "source": [
    "shortest_path = nx.shortest_path(G, source=1, target=7)\n",
    "print(f\"Shortest path from Node 1 to Node 7: {shortest_path}\")"
   ]
  },
  {
   "cell_type": "code",
   "execution_count": 7,
   "id": "07a37f3a-629f-4ffb-af49-e559f82b2cb1",
   "metadata": {},
   "outputs": [
    {
     "name": "stdout",
     "output_type": "stream",
     "text": [
      "Diameter of the Graph: 4\n"
     ]
    }
   ],
   "source": [
    "print(f\"Diameter of the Graph: {nx.diameter(G)}\")"
   ]
  },
  {
   "cell_type": "markdown",
   "id": "f9e1c5df-acb4-4ca0-bcba-6b8d0dc6aae2",
   "metadata": {},
   "source": [
    "## 1.2 Characteristic Path length\n",
    "\n",
    "It is defined as the **average** of **all the shortest path lengths** between all possible pair of nodes. Mathematically, it is expressed as:\n",
    "\n",
    "$$\n",
    "\\begin{equation}\n",
    "\\frac{1}{q(q-1)} \\sum_{i \\in V} l_i\n",
    "\\end{equation}\n",
    "$$\n",
    "\n",
    "where \n",
    "- $V$ represents the set of nodes,\n",
    "- $q = |V|$ represents the order,\n",
    "- $l_i$ represents the average path length between node $i$ and all the other nodes."
   ]
  },
  {
   "cell_type": "code",
   "execution_count": 8,
   "id": "f062a408-e1bc-496e-9936-847586dba84b",
   "metadata": {},
   "outputs": [
    {
     "name": "stdout",
     "output_type": "stream",
     "text": [
      "Characteristic path length of graph G: 2.1904761904761907\n"
     ]
    }
   ],
   "source": [
    "print(f\"Characteristic path length of graph G: {nx.average_shortest_path_length(G)}\")"
   ]
  },
  {
   "cell_type": "markdown",
   "id": "6d604244-7b11-450f-bbc1-889389ab3739",
   "metadata": {},
   "source": [
    "  Networks having **shorter** characteristic path lengths promote **quicker** transfer of information and reduces cost. \n",
    " \n",
    "  However, the **downside** of this metric is that **it cannot be always defined** since it is not possible \n",
    "  to compute a path among all the nodes in a **disconnected graph**. For this reason, **network efficiency** is also widely used."
   ]
  },
  {
   "cell_type": "markdown",
   "id": "a30abbe1-7be3-4cba-9dee-58afb74ae9c2",
   "metadata": {},
   "source": [
    "## 1.3 Global and local efficiency\n",
    "\n",
    "\n",
    "- **Global efficiency** : It is **average** of the **inverse** shortest path lengths for all pairs of nodes. Mathematically it is represented as\n",
    "    $$\n",
    "      \\begin{equation}\n",
    "      \\frac{1}{q(q-1)}\\sum_{i \\in V} \\frac{1}{l_{ij}}\n",
    "      \\end{equation}\n",
    "    $$\n",
    "  Such a metric can be seen as a **measure** of how **efficiently** information is exchanged.\n",
    "  \n",
    "- **Local efficiency** : It can be computed by considering **only the neighborhood** of the node in the calculation, **without** the node itself.\n",
    "\n",
    "Efficiency is at **maximum** when a graph is **fully-connected**, while it is **minimal** for **completely disconnected** graph."
   ]
  },
  {
   "cell_type": "code",
   "execution_count": 9,
   "id": "861181a5-cd41-463c-b325-938278661397",
   "metadata": {},
   "outputs": [
    {
     "name": "stdout",
     "output_type": "stream",
     "text": [
      "Global efficiency of graph G: 0.611111111111111\n",
      "Local efficiency of graph G: 0.6666666666666667\n"
     ]
    }
   ],
   "source": [
    "print(f\"Global efficiency of graph G: {nx.global_efficiency(G)}\")\n",
    "print(f\"Local efficiency of graph G: {nx.local_efficiency(G)}\")"
   ]
  },
  {
   "cell_type": "markdown",
   "id": "3bbba671-fa64-4340-b685-a8440361d040",
   "metadata": {},
   "source": [
    "# 2. Segregation metrics\n",
    "\n",
    "It is used to **quantify** the presence of **groups** of interconnected nodes, known as **communities or modules**, within a network."
   ]
  },
  {
   "cell_type": "markdown",
   "id": "c976e84b-5218-4c6d-9441-edca097d38be",
   "metadata": {},
   "source": [
    "## 2.1 Clustering coefficient\n",
    "\n",
    "- It is a measure of how much nodes cluster together.\n",
    "- Defined as the **fraction of triangles** (complete subgraph of three nodes and three edges) around a node.\n",
    "- Is equivalent to the fraction of the node's **neighbors** that are neighbors of each other."
   ]
  },
  {
   "cell_type": "code",
   "execution_count": 11,
   "id": "9b565574-1e88-457b-b20e-926d00980710",
   "metadata": {},
   "outputs": [
    {
     "name": "stdout",
     "output_type": "stream",
     "text": [
      "Global clustering value:  0.667\n",
      "Local clustering: {1: 1.0, 2: 1.0, 3: 0.3333333333333333, 4: 0, 5: 0.3333333333333333, 6: 1.0, 7: 1.0}\n"
     ]
    }
   ],
   "source": [
    "global_clustering = nx.average_clustering(G)\n",
    "local_clustering = nx.clustering(G)\n",
    "\n",
    "print(f\"Global clustering value: {global_clustering: .3f}\")\n",
    "print(f\"Local clustering: {local_clustering}\")"
   ]
  },
  {
   "cell_type": "markdown",
   "id": "5e566b6e-3158-4602-b107-04615fe1d4fa",
   "metadata": {},
   "source": [
    "## 2.2 Transitivity\n",
    "\n",
    "It is the ratio between **observed** number of **closed triplets** (complete subgraphs with three nodes and two edges), and the **maximum** number of **closed triplets** in the graph."
   ]
  },
  {
   "cell_type": "code",
   "execution_count": 13,
   "id": "b2c80e75-e93c-4fde-acfb-6cf7d715eb8a",
   "metadata": {},
   "outputs": [
    {
     "name": "stdout",
     "output_type": "stream",
     "text": [
      "Transitivity of Graph G: 0.545\n"
     ]
    }
   ],
   "source": [
    "print(f\"Transitivity of Graph G: {nx.transitivity(G) :.3f}\")"
   ]
  },
  {
   "cell_type": "markdown",
   "id": "98f6f980-fb26-470d-a4b4-27d612fb139f",
   "metadata": {},
   "source": [
    "## 2.3 Modularity\n",
    "\n",
    "- Originally designed to **quantify** the division of a network in **aggregated** sets of **highly interconnected** nodes, commonly known as **modules**, **communities**, **groups**, or **cluster**.\n",
    "- The main idea is that networks having **high modularity** will show **dense connection within the module** and **sparse connection between modules**.\n",
    "- Unlike other graph metrics, modularity is often computed by means of **optimization algorithms**."
   ]
  },
  {
   "cell_type": "code",
   "execution_count": 17,
   "id": "c78e83ab-94f6-42b9-ae39-61e5c0d01628",
   "metadata": {},
   "outputs": [
    {
     "name": "stdout",
     "output_type": "stream",
     "text": [
      "Modularity of Graph G: 0.3671875\n"
     ]
    }
   ],
   "source": [
    "print(f\"Modularity of Graph G: {nx.algorithms.community.modularity(G, communities=[{1, 2, 3}, {4, 5, 6, 7}])}\")"
   ]
  },
  {
   "cell_type": "markdown",
   "id": "97bebf06-6d31-42ad-a88a-249fd33fa886",
   "metadata": {},
   "source": [
    "While Segregation metrics helps us to understand the presence of groups. However, each node is a graph has its own importance, and to understand that we need to rely on **centrality metrics**."
   ]
  },
  {
   "cell_type": "markdown",
   "id": "898babbb-e7ce-4142-be5c-7869eae41bd7",
   "metadata": {},
   "source": [
    "# 3. Centrality Metrics"
   ]
  },
  {
   "cell_type": "markdown",
   "id": "3094176e-41f7-4942-b6a8-bedb9af41c96",
   "metadata": {},
   "source": [
    "## 3.1 Degree of centrality\n",
    "\n",
    "- Directly connected with the **degree of a node**.\n",
    "- Measures the **number of incident edges** on a certain node $\\mathcal{i}$. Which means, **more** a node is **connected** the **higher** is it's **degree of centrality**.\n",
    "- For **directed graphs** we need to consider the **in-degree** and **out-degree** centrality metrics."
   ]
  },
  {
   "cell_type": "code",
   "execution_count": 20,
   "id": "47e02799-b0a7-4721-9892-d63139bb2b68",
   "metadata": {},
   "outputs": [
    {
     "name": "stdout",
     "output_type": "stream",
     "text": [
      "The degree of centrality of each node of graph G: {'Dublin': 0.3333333333333333, 'Paris': 0.3333333333333333, 'Milan': 0.5, 'Rome': 0.3333333333333333, 'Naples': 0.5, 'Moscow': 0.3333333333333333, 'Tokyo': 0.3333333333333333}\n"
     ]
    }
   ],
   "source": [
    "print(f\"The degree of centrality of each node of graph G: { {nodes[k]:v for k, v in nx.degree_centrality(G).items()} }\")"
   ]
  },
  {
   "cell_type": "markdown",
   "id": "1c3ecf5a-c647-4377-888b-19e0008f41c1",
   "metadata": {},
   "source": [
    "## 3.2 Closeness centrality\n",
    "\n",
    "- Quantifies how much a node is **close (well connected)** to **other nodes**.\n",
    "- More formally, it refers to the **average distance** of a node $\\mathcal{i}$ to all other nodes in the network.\n",
    "- If $l_{ij}$ is the **shortest path** between node $\\mathcal{i}$ and node $\\mathcal{j}$, the closeness centrality is defined as:\n",
    "  $$\n",
    "  \\begin{equation}\n",
    "  \\frac{1}{\\sum_{i \\in V, i \\neq j} l_{ij}}\n",
    "  \\end{equation}\n",
    "  $$\n",
    "  where $V$ is the set of nodes in the graph."
   ]
  },
  {
   "cell_type": "code",
   "execution_count": 21,
   "id": "c64eceb2-da56-45d3-abab-19a1bd2af0d4",
   "metadata": {},
   "outputs": [
    {
     "name": "stdout",
     "output_type": "stream",
     "text": [
      "Closeness Centrality: {'Dublin': 0.4, 'Paris': 0.4, 'Milan': 0.5454545454545454, 'Rome': 0.6, 'Naples': 0.5454545454545454, 'Moscow': 0.4, 'Tokyo': 0.4}\n"
     ]
    }
   ],
   "source": [
    "print(f\"Closeness Centrality: { {nodes[k]:v for k,v in nx.closeness_centrality(G).items()} }\")"
   ]
  },
  {
   "cell_type": "markdown",
   "id": "e14f4a5b-e1e1-4b7a-bf93-ecf1bf024595",
   "metadata": {},
   "source": [
    "## 3.3 Betweeness Centrality\n",
    "\n",
    "- Evaluates how much a node acts as a **bridge** between other nodes.\n",
    "- If $L_{wj}$ is the total number of shortest paths between node $w$ and node $j$, and $L_{wj}(i)$ is the total number of shortest paths between node $w$ and node $j$ passing through node $i$, then the betweeness centrality can be defined as:\n",
    "  $$\n",
    "  \\begin{equation}\n",
    "  \\sum_{w \\neq i \\neq j} \\frac{L_{wj}(i)}{L_{wj}}\n",
    "  \\end{equation}\n",
    "  $$\n",
    "\n",
    "- As per the formula, the higher the value of the numerator, the higher is the betweeness centrality. In other words, the more the number of shortest paths passing through a node $i$, the more is its betweeness centrality."
   ]
  },
  {
   "cell_type": "code",
   "execution_count": 22,
   "id": "45b408d9-f15f-4299-8995-1f0e86604948",
   "metadata": {},
   "outputs": [
    {
     "name": "stdout",
     "output_type": "stream",
     "text": [
      "Betweeness Centrality: {'Dublin': 0.0, 'Paris': 0.0, 'Milan': 0.5333333333333333, 'Rome': 0.6, 'Naples': 0.5333333333333333, 'Moscow': 0.0, 'Tokyo': 0.0}\n"
     ]
    }
   ],
   "source": [
    "print(f\"Betweeness Centrality: { {nodes[k]:v for k,v in nx.betweenness_centrality(G).items()} }\")"
   ]
  },
  {
   "cell_type": "markdown",
   "id": "3d42ccdb-eaf9-447a-b506-a8641fbae3c7",
   "metadata": {},
   "source": [
    "While Centrality metrics helps us to understand the importance of each node in a graph. To measure the vulnerability of a network, we need to rely on the resilience metrics."
   ]
  },
  {
   "cell_type": "markdown",
   "id": "9e5680cc-e7d9-491e-8232-1891e7a7b7f7",
   "metadata": {},
   "source": [
    "# 4. Resilience metrics"
   ]
  },
  {
   "cell_type": "markdown",
   "id": "3f2212f7-7288-41ac-8fbd-f80f950d952d",
   "metadata": {},
   "source": [
    "## 4.1 Assortativity coefficient\n",
    "\n",
    "- **Assortativity** is used to quantify the **tendency of nodes** being **connected** to **similar nodes**.\n",
    "- One of the most common ways to measure is the **Pearson correlation coefficient** between the degrees of directly connected nodes (nodes on two opposite ends of a link).\n",
    "  * It assumes a **positive** value when there is a correlation between nodes of **similar degree**.\n",
    "  * It assumes a **negative** value when there is a correlation between nodes of **different degree**."
   ]
  },
  {
   "cell_type": "code",
   "execution_count": 24,
   "id": "fd6ae60b-1b2b-418c-803f-9b2ff5bb2f9b",
   "metadata": {},
   "outputs": [
    {
     "name": "stdout",
     "output_type": "stream",
     "text": [
      "Assortavitiy coefficient of network G : -0.6\n"
     ]
    }
   ],
   "source": [
    "print(f\"Assortavitiy coefficient of network G : {nx.degree_pearson_correlation_coefficient(G)}\")"
   ]
  },
  {
   "cell_type": "markdown",
   "id": "96a15b00-2fd3-4649-b216-ef0d2e1f327c",
   "metadata": {},
   "source": [
    "# Extras\n",
    "\n",
    "## Clique\n",
    "\n",
    "- A **clique** is a **fully connected sub-graph** of $n$ nodes within a **larger** graph. It is an **undirected graph**.\n",
    "- The examples where you can see a clique are **lollipop graph** and **barbell graph**.\n",
    "\n",
    "## Lollipop Graph\n",
    "- Formed a clique of size $n$ and a branch of $m$ nodes.\n",
    "\n",
    "## Barbell Graph\n",
    "- Formed by **two** cliques of size $m1$ and $m2$ joined by a branch of nodes."
   ]
  },
  {
   "cell_type": "code",
   "execution_count": 25,
   "id": "0d9e87fc-86ed-4b22-add9-bdbc76f475a2",
   "metadata": {},
   "outputs": [
    {
     "data": {
      "image/png": "[encoded data removed]",
      "text/plain": [
       "<Figure size 640x480 with 1 Axes>"
      ]
     },
     "metadata": {},
     "output_type": "display_data"
    }
   ],
   "source": [
    "lollipop = nx.lollipop_graph(m=7, n=3)\n",
    "nx.draw(lollipop)"
   ]
  },
  {
   "cell_type": "code",
   "execution_count": 26,
   "id": "b6f85237-d382-42ce-9bfa-7b47f18cf67c",
   "metadata": {},
   "outputs": [
    {
     "data": {
      "image/png": "[encoded data removed]",
      "text/plain": [
       "<Figure size 640x480 with 1 Axes>"
      ]
     },
     "metadata": {},
     "output_type": "display_data"
    }
   ],
   "source": [
    "barbell = nx.barbell_graph(m1=7, m2=4)\n",
    "nx.draw(barbell)"
   ]
  },
  {
   "cell_type": "code",
   "execution_count": null,
   "id": "15397663-b580-4330-89a6-b60d523c0e85",
   "metadata": {},
   "outputs": [],
   "source": []
  }
 ],
 "metadata": {
  "kernelspec": {
   "display_name": "Python 3 (ipykernel)",
   "language": "python",
   "name": "python3"
  },
  "language_info": {
   "codemirror_mode": {
    "name": "ipython",
    "version": 3
   },
   "file_extension": ".py",
   "mimetype": "text/x-python",
   "name": "python",
   "nbconvert_exporter": "python",
   "pygments_lexer": "ipython3",
   "version": "3.12.3"
  }
 },
 "nbformat": 4,
 "nbformat_minor": 5
}
