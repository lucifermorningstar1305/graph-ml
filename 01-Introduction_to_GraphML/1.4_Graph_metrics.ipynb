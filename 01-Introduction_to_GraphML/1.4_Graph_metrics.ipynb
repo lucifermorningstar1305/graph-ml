{
 "cells": [
  {
   "cell_type": "code",
   "execution_count": 1,
   "id": "03a0c5b9-d47d-481f-87b2-a30d9713a7f3",
   "metadata": {},
   "outputs": [],
   "source": [
    "import numpy as np\n",
    "import matplotlib.pyplot as plt\n",
    "import pandas as pd\n",
    "import networkx as nx"
   ]
  },
  {
   "cell_type": "markdown",
   "id": "7eb5090b-119d-4af9-8953-cf77f112617c",
   "metadata": {},
   "source": [
    "# 1. Integration metrics\n",
    "\n",
    "This measures how nodes tend to be **interconnected** with each other."
   ]
  },
  {
   "cell_type": "markdown",
   "id": "77503c4c-d10c-4bd1-b373-caeccbc6d00a",
   "metadata": {},
   "source": [
    "## 1.1 Distance, path, and shortest path\n",
    "\n",
    "- **Distance** : It is the **number of edges** required to traverse to the **target** node from the **source** node.\n",
    "- **Path** : It is the **set of edges** connecting source node $\\mathcal{i}$ to target node $\\mathcal{j}$.\n",
    "- **Shortest Path**: It is the **lowest** number of edges traversed to get to **target node** $\\mathcal{j}$ from **source node** $\\mathcal{i}$ amongst all the other possible paths.\n",
    "- **Diameter** : It is **number of edges** contained in the **longest shortest path** among all possible **shortest paths**."
   ]
  },
  {
   "cell_type": "code",
   "execution_count": 2,
   "id": "d04236c6-0b75-46db-9fbd-712da8206b0f",
   "metadata": {},
   "outputs": [
    {
     "data": {
      "image/png": "[encoded data removed]",
      "text/plain": [
       "<Figure size 640x480 with 1 Axes>"
      ]
     },
     "metadata": {},
     "output_type": "display_data"
    }
   ],
   "source": [
    "G = nx.Graph()\n",
    "\n",
    "nodes = {1: \"Dublin\", 2: \"Paris\", 3:\"Milan\", 4:\"Rome\", 5:\"Naples\", 6:\"Moscow\", 7:\"Tokyo\"}\n",
    "G.add_nodes_from(nodes.keys())\n",
    "G.add_edges_from([(1, 2), (1, 3), (2, 3), (3, 4), (4, 5), (5, 6), (6, 7), (7, 5)])\n",
    "\n",
    "nx.draw(G, with_labels=True)"
   ]
  },
  {
   "cell_type": "code",
   "execution_count": 3,
   "id": "c9d22b9e-345b-4716-a3d5-03c97d62480e",
   "metadata": {},
   "outputs": [
    {
     "name": "stdout",
     "output_type": "stream",
     "text": [
      "Shortest path from Node 1 to Node 7: [1, 3, 4, 5, 7]\n"
     ]
    }
   ],
   "source": [
    "shortest_path = nx.shortest_path(G, source=1, target=7)\n",
    "print(f\"Shortest path from Node 1 to Node 7: {shortest_path}\")"
   ]
  },
  {
   "cell_type": "code",
   "execution_count": 7,
   "id": "07a37f3a-629f-4ffb-af49-e559f82b2cb1",
   "metadata": {},
   "outputs": [
    {
     "name": "stdout",
     "output_type": "stream",
     "text": [
      "Diameter of the Graph: 4\n"
     ]
    }
   ],
   "source": [
    "print(f\"Diameter of the Graph: {nx.diameter(G)}\")"
   ]
  },
  {
   "cell_type": "markdown",
   "id": "f9e1c5df-acb4-4ca0-bcba-6b8d0dc6aae2",
   "metadata": {},
   "source": [
    "## 1.2 Characteristic Path length\n",
    "\n",
    "It is defined as the **average** of **all the shortest path lengths** between all possible pair of nodes. Mathematically, it is expressed as:\n",
    "\n",
    "$$\n",
    "\\begin{equation}\n",
    "\\frac{1}{q(q-1)} \\sum_{i \\in V} l_i\n",
    "\\end{equation}\n",
    "$$\n",
    "\n",
    "where \n",
    "- $V$ represents the set of nodes,\n",
    "- $q = |V|$ represents the order,\n",
    "- $l_i$ represents the average path length between node $i$ and all the other nodes."
   ]
  },
  {
   "cell_type": "code",
   "execution_count": 8,
   "id": "f062a408-e1bc-496e-9936-847586dba84b",
   "metadata": {},
   "outputs": [
    {
     "name": "stdout",
     "output_type": "stream",
     "text": [
      "Characteristic path length of graph G: 2.1904761904761907\n"
     ]
    }
   ],
   "source": [
    "print(f\"Characteristic path length of graph G: {nx.average_shortest_path_length(G)}\")"
   ]
  },
  {
   "cell_type": "markdown",
   "id": "6d604244-7b11-450f-bbc1-889389ab3739",
   "metadata": {},
   "source": [
    "  Networks having **shorter** characteristic path lengths promote **quicker** transfer of information and reduces cost. \n",
    " \n",
    "  However, the **downside** of this metric is that **it cannot be always defined** since it is not possible \n",
    "  to compute a path among all the nodes in a **disconnected graph**. For this reason, **network efficiency** is also widely used."
   ]
  },
  {
   "cell_type": "markdown",
   "id": "a30abbe1-7be3-4cba-9dee-58afb74ae9c2",
   "metadata": {},
   "source": [
    "## 1.3 Global and local efficiency\n",
    "\n",
    "\n",
    "- **Global efficiency** : It is **average** of the **inverse** shortest path lengths for all pairs of nodes. Mathematically it is represented as\n",
    "    $$\n",
    "      \\begin{equation}\n",
    "      \\frac{1}{q(q-1)}\\sum_{i \\in V} \\frac{1}{l_{ij}}\n",
    "      \\end{equation}\n",
    "    $$\n",
    "  Such a metric can be seen as a **measure** of how **efficiently** information is exchanged.\n",
    "  \n",
    "- **Local efficiency** : It can be computed by considering **only the neighborhood** of the node in the calculation, **without** the node itself.\n",
    "\n",
    "Efficiency is at **maximum** when a graph is **fully-connected**, while it is **minimal** for **completely disconnected** graph."
   ]
  },
  {
   "cell_type": "code",
   "execution_count": 9,
   "id": "861181a5-cd41-463c-b325-938278661397",
   "metadata": {},
   "outputs": [
    {
     "name": "stdout",
     "output_type": "stream",
     "text": [
      "Global efficiency of graph G: 0.611111111111111\n",
      "Local efficiency of graph G: 0.6666666666666667\n"
     ]
    }
   ],
   "source": [
    "print(f\"Global efficiency of graph G: {nx.global_efficiency(G)}\")\n",
    "print(f\"Local efficiency of graph G: {nx.local_efficiency(G)}\")"
   ]
  },
  {
   "cell_type": "markdown",
   "id": "3bbba671-fa64-4340-b685-a8440361d040",
   "metadata": {},
   "source": [
    "# 2. Segregation metrics\n",
    "\n",
    "It is used to **quantify** the presence of **groups** of interconnected nodes, known as **communities or modules**, within a network."
   ]
  },
  {
   "cell_type": "markdown",
   "id": "c976e84b-5218-4c6d-9441-edca097d38be",
   "metadata": {},
   "source": [
    "## 2.1 Clustering coefficient\n",
    "\n",
    "- It is a measure of how much nodes cluster together.\n",
    "- Defined as the **fraction of triangles** (complete subgraph of three nodes and three edges) around a node.\n",
    "- Is equivalent to the fraction of the node's **neighbors** that are neighbors of each other."
   ]
  },
  {
   "cell_type": "code",
   "execution_count": 11,
   "id": "9b565574-1e88-457b-b20e-926d00980710",
   "metadata": {},
   "outputs": [
    {
     "name": "stdout",
     "output_type": "stream",
     "text": [
      "Global clustering value:  0.667\n",
      "Local clustering: {1: 1.0, 2: 1.0, 3: 0.3333333333333333, 4: 0, 5: 0.3333333333333333, 6: 1.0, 7: 1.0}\n"
     ]
    }
   ],
   "source": [
    "global_clustering = nx.average_clustering(G)\n",
    "local_clustering = nx.clustering(G)\n",
    "\n",
    "print(f\"Global clustering value: {global_clustering: .3f}\")\n",
    "print(f\"Local clustering: {local_clustering}\")"
   ]
  },
  {
   "cell_type": "code",
   "execution_count": null,
   "id": "e76f0123-052e-493e-9ac6-b699b9bcac49",
   "metadata": {},
   "outputs": [],
   "source": []
  }
 ],
 "metadata": {
  "kernelspec": {
   "display_name": "Python 3 (ipykernel)",
   "language": "python",
   "name": "python3"
  },
  "language_info": {
   "codemirror_mode": {
    "name": "ipython",
    "version": 3
   },
   "file_extension": ".py",
   "mimetype": "text/x-python",
   "name": "python",
   "nbconvert_exporter": "python",
   "pygments_lexer": "ipython3",
   "version": "3.12.3"
  }
 },
 "nbformat": 4,
 "nbformat_minor": 5
}
