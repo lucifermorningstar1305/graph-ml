{
 "cells": [
  {
   "cell_type": "markdown",
   "id": "9c85357b-5abc-4770-8e74-d6520ed38de7",
   "metadata": {},
   "source": [
    "# Intro to Graph Algorithms\n",
    "\n",
    "This notebook will describe some of the common graph algorithms that are used in SE and DS."
   ]
  },
  {
   "cell_type": "code",
   "execution_count": 11,
   "id": "d7a1a135-4fb5-4952-94de-07015dbda1e6",
   "metadata": {},
   "outputs": [],
   "source": [
    "from typing import List, Dict, Tuple, Any, Optional, Callable\n",
    "\n",
    "import numpy as np\n",
    "import pandas as pd\n",
    "import matplotlib.pyplot as plt\n",
    "import networkx as nx"
   ]
  },
  {
   "cell_type": "markdown",
   "id": "e85a6933-a39f-4a04-a22e-a7d0fff2e623",
   "metadata": {},
   "source": [
    "# 1. Breadth-first Search (BFS)\n",
    "\n",
    "- It is a **traversal algorithm**.\n",
    "- Starts at the **root** node and explores all the **neighbouring nodes** at a **particular level** before moving to the next level of nodes.\n",
    "- Works by maintaining a **queue of nodes** to visit and marking each visited node as it is added to the queue.\n",
    "- It is particularly useful for finding the **shortest path** between two nodes in an **unweighted graph**.\n",
    "    * This is because the algorithm visits nodes **in order** of their **distance** from the *starting* node. So the first time the target node is visited, it must be along the shortest path from the starting node.\n",
    "- It can also be used to check whether a graph is connected or to find all connected components of a graph.\n",
    "- The time complexity of BFS is $O(|V| + |E|)$, which is a **significant issue** for graphs with a high degree of connectivity or for graphs that are sparse. Thus various variants of BFS are use such as:\n",
    "    - Bi-directional BFS\n",
    "    - $A^{*}$\n"
   ]
  },
  {
   "cell_type": "code",
   "execution_count": 20,
   "id": "ef6b5a5c-3596-4903-ac31-1f35723e8281",
   "metadata": {},
   "outputs": [
    {
     "data": {
      "image/png": "[encoded data removed]",
      "text/plain": [
       "<Figure size 640x480 with 1 Axes>"
      ]
     },
     "metadata": {},
     "output_type": "display_data"
    }
   ],
   "source": [
    "G = nx.Graph()\n",
    "nodes = {\"A\", \"B\", \"C\", \"D\", \"E\", \"F\", \"G\"}\n",
    "edges = [(\"A\", \"B\"), (\"A\", \"C\"), (\"B\", \"D\"), (\"B\", \"E\"), (\"C\", \"F\"), (\"C\", \"G\")]\n",
    "G.add_nodes_from(nodes)\n",
    "G.add_edges_from(edges)\n",
    "nx.draw(G, with_labels=True)"
   ]
  },
  {
   "cell_type": "code",
   "execution_count": 21,
   "id": "2b2618dc-d1d6-4c72-8b02-3faf7205547d",
   "metadata": {},
   "outputs": [],
   "source": [
    "def bfs(graph: nx.Graph, node: str) -> List:\n",
    "    \"\"\"\n",
    "    Performs the Breadth-first Search.\n",
    "    \n",
    "    :Parameters:\n",
    "    ----------\n",
    "    graph (nx.Graph) : The graph object which consists of nodes and edges.\n",
    "    node (str): The starting node.\n",
    "\n",
    "    :Returns:\n",
    "    ---------\n",
    "    The path for the starting and ending node.\n",
    "    \"\"\"\n",
    "    visited = [node]\n",
    "    queue = [node]\n",
    "\n",
    "    while queue:\n",
    "        node = queue.pop(0)\n",
    "\n",
    "        for neighbor in graph[node]:\n",
    "            if neighbor not in visited:\n",
    "                visited.append(neighbor)\n",
    "                queue.append(neighbor)\n",
    "\n",
    "    return visited\n",
    "    "
   ]
  },
  {
   "cell_type": "code",
   "execution_count": 22,
   "id": "0694b652-ff89-4668-a985-052e76aa42d4",
   "metadata": {},
   "outputs": [
    {
     "data": {
      "text/plain": [
       "['A', 'B', 'C', 'D', 'E', 'F', 'G']"
      ]
     },
     "execution_count": 22,
     "metadata": {},
     "output_type": "execute_result"
    }
   ],
   "source": [
    "bfs(G, \"A\")"
   ]
  },
  {
   "cell_type": "markdown",
   "id": "df9c4a1b-9050-4ee5-8446-3199fe361db3",
   "metadata": {},
   "source": [
    "# 2. Depth-first Search (DFS)\n",
    "\n",
    "- It is a **recursive algorithm** that starts at the **root node** and explores as far as possible along each branch before backtracking.\n",
    "- It is useful for solving various problems, such as:\n",
    "    - Finding cycles in a graph\n",
    "    - Finding connected components\n",
    "    - Topological sorting\n",
    "    - Solving maze problem\n",
    "- Like BFS it has a time complexity of $(O(|V| + |E|))$, where $|V|$ is the number of nodes and $|E|$ is the number of edges.\n",
    "- It requires less memory but doesn't gurantee the shallowest path solution.\n",
    "- Unlike BFS, the algorithm can trap itself in an **infinite loop**."
   ]
  },
  {
   "cell_type": "code",
   "execution_count": 29,
   "id": "f7c393aa-4203-4144-9f6a-265e692e98f7",
   "metadata": {},
   "outputs": [],
   "source": [
    "visited = list()\n",
    "\n",
    "def dfs(visited: List, graph: nx.Graph, node: str):\n",
    "    \"\"\"\n",
    "    Performs the Depth-First Search\n",
    "\n",
    "    :Parameters:\n",
    "    ------------\n",
    "    visited (list): The list of visited nodes.\n",
    "    graph (nx.Graph): the graph object consisting of nodes and edges.\n",
    "    node (str): the starting node.\n",
    "    \"\"\"\n",
    "    if node not in visited:\n",
    "        visited.append(node)\n",
    "\n",
    "        for neighbor in graph[node]:\n",
    "            visited = dfs(visited, graph, neighbor)\n",
    "\n",
    "    return visited"
   ]
  },
  {
   "cell_type": "code",
   "execution_count": 30,
   "id": "465f7355-3847-41fe-ba0a-a1e4904587a3",
   "metadata": {},
   "outputs": [
    {
     "data": {
      "text/plain": [
       "['A', 'B', 'D', 'E', 'C', 'F', 'G']"
      ]
     },
     "execution_count": 30,
     "metadata": {},
     "output_type": "execute_result"
    }
   ],
   "source": [
    "dfs(visited, G, \"A\")"
   ]
  },
  {
   "cell_type": "code",
   "execution_count": null,
   "id": "879fd987-187e-44fd-9f01-ee7a011f00b3",
   "metadata": {},
   "outputs": [],
   "source": []
  }
 ],
 "metadata": {
  "kernelspec": {
   "display_name": "Python 3 (ipykernel)",
   "language": "python",
   "name": "python3"
  },
  "language_info": {
   "codemirror_mode": {
    "name": "ipython",
    "version": 3
   },
   "file_extension": ".py",
   "mimetype": "text/x-python",
   "name": "python",
   "nbconvert_exporter": "python",
   "pygments_lexer": "ipython3",
   "version": "3.12.3"
  }
 },
 "nbformat": 4,
 "nbformat_minor": 5
}
